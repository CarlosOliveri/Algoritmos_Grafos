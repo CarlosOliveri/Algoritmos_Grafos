{
  "nbformat": 4,
  "nbformat_minor": 0,
  "metadata": {
    "colab": {
      "provenance": []
    },
    "kernelspec": {
      "name": "python3",
      "display_name": "Python 3"
    },
    "language_info": {
      "name": "python"
    }
  },
  "cells": [
    {
      "cell_type": "markdown",
      "source": [
        "Carlos Enmabuel Oliveri   \n",
        "5234661"
      ],
      "metadata": {
        "id": "JkCCu9rhzHS8"
      }
    },
    {
      "cell_type": "code",
      "execution_count": 52,
      "metadata": {
        "id": "zZ0I0xy4zB57"
      },
      "outputs": [],
      "source": [
        "def secuenciaViva(k):\n",
        "  A = []\n",
        "  cont = 1\n",
        "  while len(A) < k:\n",
        "    if '4' in str(cont):\n",
        "      pass\n",
        "    else:\n",
        "      A.append(cont)\n",
        "    cont = cont + 1\n",
        "  print(\"entrada\",k)\n",
        "  return A[-1]"
      ]
    },
    {
      "cell_type": "code",
      "source": [
        "file = open(\"/content/prueba.txt\",\"r\")\n",
        "lines = file.readlines()\n",
        "for k in lines:\n",
        "  if \"\\n\" in k:\n",
        "    num = secuenciaViva(int(k[0:-1]))\n",
        "  else:\n",
        "    num = secuenciaViva(int(k))\n",
        "  print(num)"
      ],
      "metadata": {
        "colab": {
          "base_uri": "https://localhost:8080/"
        },
        "id": "TJP6OZKx1BSf",
        "outputId": "23a71c4a-76df-4390-d8db-2a59b3248286"
      },
      "execution_count": 56,
      "outputs": [
        {
          "output_type": "stream",
          "name": "stdout",
          "text": [
            "entrada 6\n",
            "7\n",
            "entrada 3\n",
            "3\n",
            "entrada 5\n",
            "6\n",
            "entrada 22\n",
            "25\n",
            "entrada 10\n",
            "11\n",
            "entrada 100\n",
            "121\n",
            "entrada 12345\n",
            "18937\n"
          ]
        }
      ]
    },
    {
      "cell_type": "code",
      "source": [
        "lines"
      ],
      "metadata": {
        "colab": {
          "base_uri": "https://localhost:8080/"
        },
        "id": "H9urzA1e7_4z",
        "outputId": "f5e71ff8-799c-464a-da85-0b87812f141b"
      },
      "execution_count": 55,
      "outputs": [
        {
          "output_type": "execute_result",
          "data": {
            "text/plain": [
              "['6\\n', '3\\n', '5\\n', '22\\n', '10\\n', '100\\n', '12345']"
            ]
          },
          "metadata": {},
          "execution_count": 55
        }
      ]
    }
  ]
}