{
  "cells": [
    {
      "cell_type": "markdown",
      "source": [
        "# Tarea 6: Grafos\n",
        "> Carlos Oliveri \n"
      ],
      "metadata": {
        "id": "57TdKvnxyAE4"
      }
    },
    {
      "cell_type": "code",
      "execution_count": 2,
      "metadata": {
        "id": "hs8xj7HJyPyn"
      },
      "outputs": [],
      "source": [
        "import matplotlib.pyplot as plt\n",
        "import networkx as nx"
      ]
    },
    {
      "cell_type": "code",
      "execution_count": 3,
      "metadata": {
        "id": "E_8sEeMqy4gg"
      },
      "outputs": [],
      "source": [
        "class Vertice:\n",
        "  def __init__(self,x):\n",
        "    self.clave = x\n",
        "    self.vecinos = []\n",
        "    self.dist = 0\n",
        "    self.color = 'blanco'\n",
        "    self.padre = None\n",
        "\n",
        "class Grafos:\n",
        "  def __init__(self):\n",
        "    self.vertices = []\n",
        "\n",
        "  def agregarVertice(self,n):\n",
        "    self.vertices.append(n)\n",
        "\n",
        "  def agregarAristas(self,a,b,c):\n",
        "    a.vecinos.append((b,c))\n",
        "    b.vecinos.append((a,c))\n",
        "\n",
        "  def mostrarGrafos(self):\n",
        "    G = nx.Graph()\n",
        "    for u in self.vertices:\n",
        "      for v in u.vecinos:\n",
        "        G.add_edge(u.clave,v[0].clave)\n",
        "    nx.draw_circular(G,with_labels = True)\n",
        "    plt.show()\n",
        "\n",
        "  def mayorDist(self,s):\n",
        "    global maxDist, objet\n",
        "    for u in self.vertices:\n",
        "      u.padre = None\n",
        "      u.color = 'blanco'\n",
        "      u.dist = 0\n",
        "    maxDist = 0\n",
        "    s.color = 'gris'\n",
        "    fila = Cola()\n",
        "    fila.agregar(s)\n",
        "    while not fila.vacia():\n",
        "      u = fila.quitar()\n",
        "      for v in u.vecinos:\n",
        "        if v[0].color == 'blanco':\n",
        "          v[0].color = 'gris'\n",
        "          v[0].padre = u\n",
        "          v[0].dist = u.dist + v[1]\n",
        "          if maxDist < v[0].dist:\n",
        "            maxDist = v[0].dist\n",
        "            objet = v[0]\n",
        "          fila.agregar(v[0])\n",
        "      u.color = 'negro'\n",
        "    return maxDist,objet\n",
        "\n",
        "g1 = Grafos() #Creamos un Grafo Vacio\n",
        "\n",
        "class Cola:\n",
        "  def __init__(self):\n",
        "    self.elementos = []\n",
        "  def quitar(self):\n",
        "    if len(self.elementos) == 0:\n",
        "      print(\"Cola vacia!!!\")\n",
        "      return None\n",
        "    return self.elementos.pop(0)\n",
        "  def agregar(self,elementoNuevo):\n",
        "    self.elementos.append(elementoNuevo)\n",
        "  def vacia(self):\n",
        "    if len(self.elementos) == 0:\n",
        "      return True\n",
        "\n",
        "#Esta funcion busca un Vertice a partir de su Clave\n",
        "def buscarCiudad(ciudad):\n",
        "  for j in g1.vertices:\n",
        "    if j.clave == ciudad:\n",
        "      return j #Devuelve el objeto si lo encuentra\n",
        "  return False #Si no lo encuentra devuelve False"
      ]
    },
    {
      "cell_type": "code",
      "execution_count": 4,
      "metadata": {
        "colab": {
          "base_uri": "https://localhost:8080/"
        },
        "id": "-xhzpXrR5a9L",
        "outputId": "1c4d84c6-51db-4683-e5bc-e0662b6a618c"
      },
      "outputs": [
        {
          "name": "stdout",
          "output_type": "stream",
          "text": [
            "Ingrese el numero de vertices del Grafo: 6\n",
            "ingrese el valor de dos ciudades y la distancia entre ellas tal que 1 2 3\n",
            "1 2 3\n",
            "ingrese el valor de dos ciudades y la distancia entre ellas tal que 1 2 3\n",
            "2 3 4\n",
            "ingrese el valor de dos ciudades y la distancia entre ellas tal que 1 2 3\n",
            "2 6 2\n",
            "ingrese el valor de dos ciudades y la distancia entre ellas tal que 1 2 3\n",
            "6 4 6\n",
            "ingrese el valor de dos ciudades y la distancia entre ellas tal que 1 2 3\n",
            "6 5 5\n",
            "distancia maxima:  12\n"
          ]
        }
      ],
      "source": [
        "n = 0\n",
        "while n <= 1 or n != int(n):\n",
        "  #Validacion de tipo de entrada\n",
        "  try:\n",
        "    n = int(input(\"Ingrese el numero de vertices del Grafo: \"))\n",
        "  except:\n",
        "    print(\"Valor no valido intente de nuevo\")\n",
        "for k in range(0,n-1):\n",
        "  print(\"ingrese el valor de dos ciudades y la distancia entre ellas tal que 1 2 3\")\n",
        "  entrada = input()\n",
        "  # validacion de formato de entrada / no esta del todo bien validado\n",
        "  while len(entrada) != 5:\n",
        "    print('Entrada invalida vuelva a intentar: \"1 2 3\"')\n",
        "    entrada = input()\n",
        "  entrada = entrada.split()\n",
        "  if (buscarCiudad(entrada[0]) == False):\n",
        "    g1.agregarVertice(Vertice(entrada[0]))\n",
        "  if (buscarCiudad(entrada[1]) == False):\n",
        "    g1.agregarVertice(Vertice(entrada[1]))\n",
        "  g1.agregarAristas(buscarCiudad(entrada[0]),buscarCiudad(entrada[1]),int(entrada[2]))\n",
        "max = 0\n",
        "for k in g1.vertices:\n",
        "  a = g1.mayorDist(k)\n",
        "  if max < a[0]:\n",
        "    max = a[0]\n",
        "print(\"distancia maxima: \",max)"
      ]
    },
    {
      "cell_type": "code",
      "execution_count": 5,
      "metadata": {
        "colab": {
          "base_uri": "https://localhost:8080/",
          "height": 516
        },
        "id": "IXol2OeA3YoS",
        "outputId": "cf9e03dc-92be-4fe6-e640-9edef8624f67"
      },
      "outputs": [
        {
          "data": {
            "image/png": "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",
            "text/plain": [
              "<Figure size 640x480 with 1 Axes>"
            ],
            "image/png": "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\n"
          },
          "metadata": {}
        }
      ]
    }
  ]
}