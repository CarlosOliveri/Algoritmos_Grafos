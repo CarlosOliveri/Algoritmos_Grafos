{
 "cells": [
  {
   "cell_type": "markdown",
   "metadata": {},
   "source": [
    "# Carlos Oliveri"
   ]
  },
  {
   "cell_type": "markdown",
   "metadata": {},
   "source": [
    "Importamos librerias"
   ]
  },
  {
   "cell_type": "code",
   "execution_count": 2,
   "metadata": {},
   "outputs": [],
   "source": [
    "import matplotlib.pyplot as plt\n",
    "import networkx as nx\n",
    "import keyboard as kb\n",
    "import math"
   ]
  },
  {
   "cell_type": "markdown",
   "metadata": {},
   "source": [
    "Definimos la Clase Vertice"
   ]
  },
  {
   "cell_type": "code",
   "execution_count": 3,
   "metadata": {},
   "outputs": [],
   "source": [
    "class Vertice:\n",
    "  def __init__(self,clave):\n",
    "    self.clave = clave #dato almacenado\n",
    "    self.vecinos = [] #Lista de vecinos a los que esta conectado\n",
    "    self.padre = None #Padre asignado en el arbol \n",
    "    self.dist = None #distancia al nodo raiz"
   ]
  },
  {
   "cell_type": "markdown",
   "metadata": {},
   "source": [
    "Definimos la clase Arista"
   ]
  },
  {
   "cell_type": "code",
   "execution_count": 4,
   "metadata": {},
   "outputs": [],
   "source": [
    "class Arista:\n",
    "  def __init__(self,V1,V2,D,AB,R,PP):\n",
    "    self.arista = (V1,V2)\n",
    "    self.metricas = (D,AB,R,PP)"
   ]
  },
  {
   "cell_type": "markdown",
   "metadata": {},
   "source": [
    "Definimos la Clase Grafo"
   ]
  },
  {
   "cell_type": "code",
   "execution_count": 20,
   "metadata": {},
   "outputs": [],
   "source": [
    "class Grafo_D:\n",
    "  def __init__(self):\n",
    "    self.vertices = []\n",
    "    self.aristas = []\n",
    "    \n",
    "  def agregarVertice(self,V1):\n",
    "    self.vertices.append(V1)\n",
    "\n",
    "  def agregarArista(self,A):\n",
    "    self.aristas.append(A)\n",
    "    A.arista[0].vecinos.append(A.arista[1])\n",
    "    A.arista[1].vecinos.append(A.arista[0])\n",
    "\n",
    "  def mostrarVecinos(self):\n",
    "    for u in self.vertices:\n",
    "      print(\"Vertice \",u.clave,\": \",end=\"\")\n",
    "      for v in u.vecinos:\n",
    "        print(v.clave,end=\"\",sep='')\n",
    "      print(\"\")\n",
    "  \n",
    "  def buscarVertice(self,clave):\n",
    "    for u in self.vertices:\n",
    "      if u.clave == clave:\n",
    "        return u\n",
    "    #print(\"[Debug] no se encontro el vertice\")\n",
    "    return False\n",
    "  \n",
    "  def buscarArista(self,V1,V2):\n",
    "    for arista in self.aristas:\n",
    "      if arista.arista == (V1,V2) or arista.arista == (V2,V1):\n",
    "        return arista\n",
    "    #print(\"[Debug] Arista no encontrada\")\n",
    "    return False\n",
    "  \n",
    "  def initialize_single_source(self,s):\n",
    "    for u in self.vertices:\n",
    "      u.dist = 999999999\n",
    "      u.padre = None\n",
    "    s.dist = 0\n",
    "    \n",
    "  def relax(self,u,v,p): # Recibe el padre, vecino,peso\n",
    "    if(v.dist >= u.dist + p):\n",
    "      v.dist = u.dist + p\n",
    "      v.padre = u\n",
    "      \n",
    "  def bellman_ford(self,s):\n",
    "    self.initialize_single_source(s)\n",
    "    for u in self.vertices:\n",
    "      for v in u.vecinos:\n",
    "        arista = self.buscarArista(u,v)\n",
    "        p = arista.metricas[0]\n",
    "        self.relax(u,v,p)\n",
    "    for u in self.vertices:\n",
    "      for v in u.vecinos:\n",
    "        arista = self.buscarArista(u,v)\n",
    "        p = arista.metricas[0]\n",
    "        if(v.dist > u.dist + p):\n",
    "          return False\n",
    "    return True\n",
    "  \n",
    "  def buscarMenorDist(self,a,b):\n",
    "    s = self.buscarVertice(a)\n",
    "    self.bellman_ford(s)\n",
    "    u = self.buscarVertice(b)\n",
    "    bandera = False\n",
    "    vertices = []\n",
    "    path = []\n",
    "    vertices.append(u)\n",
    "    path.append(u.clave)\n",
    "    D = u.dist\n",
    "    AB = 99999999\n",
    "    R = 0\n",
    "    PP = 0\n",
    "    while not bandera:\n",
    "      padre = vertices[-1].padre\n",
    "      arista = self.buscarArista(padre,vertices[-1])\n",
    "      if AB > arista.metricas[1]:\n",
    "        AB = arista.metricas[1]\n",
    "      R += arista.metricas[2]\n",
    "      PP += arista.metricas[3]\n",
    "      vertices.append(padre)\n",
    "      path.append(padre.clave)\n",
    "      if(padre == s):\n",
    "        bandera = True\n",
    "        PP = abs(1-math.e**PP)\n",
    "    return (path,D,AB,R,PP)\n",
    "      \n",
    "  def mostrarGrafo(self):\n",
    "        G = nx.DiGraph()\n",
    "        for u in self.vertices:\n",
    "            G.add_node(u.clave) #para mostrar vértices sin aristas incidentes o de salida\n",
    "        for u in self.vertices:\n",
    "            for v in u.vecinos:\n",
    "                arista = self.buscarArista(u,v)\n",
    "                p = arista.metricas[0]\n",
    "                G.add_edge(u.clave,v.clave,weight=p)\n",
    "        pos = nx.circular_layout(G)\n",
    "        labels = nx.get_edge_attributes(G,'weight')\n",
    "        nx.draw_networkx(G,pos,node_size=700)\n",
    "        nx.draw_networkx_edge_labels(G,pos,edge_labels=labels)\n",
    "        for a in pos:\n",
    "            u = self.buscarVertice(a)\n",
    "            x,y=pos[a]\n",
    "            plt.text(x,y+0.2,s=str(u.dist), bbox=dict(facecolor='red', alpha=0.5),horizontalalignment='center')\n",
    "        plt.axis('off')\n",
    "        plt.show()"
   ]
  },
  {
   "cell_type": "markdown",
   "metadata": {},
   "source": [
    "Programa Principal"
   ]
  },
  {
   "cell_type": "code",
   "execution_count": 21,
   "metadata": {},
   "outputs": [
    {
     "name": "stdout",
     "output_type": "stream",
     "text": [
      "['1', '2', '4', '10', '1', '0.01']\n",
      "Se creo el vertive  1\n",
      "Se creo el vertive  2\n",
      "['2', '3', '5', '8', '1', '0.03']\n",
      "Se creo el vertive  3\n",
      "['3', '4', '3', '10', '3', '0.01']\n",
      "Se creo el vertive  4\n",
      "['4', '5', '2', '12', '1', '0.01']\n",
      "Se creo el vertive  5\n",
      "['4', '6', '5', '10', '2', '0.02']\n",
      "Se creo el vertive  6\n",
      "['6', '5', '8', '6', '1', '0.02']\n",
      "-1\n",
      "1 3\n",
      "2 5\n",
      "3 6\n",
      "-1\n",
      "-1\n",
      "Caso # 1\n",
      "Path:  ['3', '2', '1']\n",
      "Distancia:  9\n",
      "Ancho de Banda:  8\n",
      "Retardo: 2\n",
      "Probabilidad de PP:  0.04081077419238821\n",
      "\n",
      "Caso # 2\n",
      "Path:  ['5', '4', '3', '2']\n",
      "Distancia:  10\n",
      "Ancho de Banda:  8\n",
      "Retardo: 5\n",
      "Probabilidad de PP:  0.05127109637602412\n",
      "\n",
      "Caso # 3\n",
      "Path:  ['6', '4', '3']\n",
      "Distancia:  8\n",
      "Ancho de Banda:  10\n",
      "Retardo: 5\n",
      "Probabilidad de PP:  0.030454533953516938\n",
      "\n"
     ]
    },
    {
     "data": {
      "image/png": "[encoded data removed]",
      "text/plain": [
       "<Figure size 640x480 with 1 Axes>"
      ]
     },
     "metadata": {},
     "output_type": "display_data"
    }
   ],
   "source": [
    "G1 = Grafo_D()\n",
    "cont = 0\n",
    "bandera1 = False\n",
    "bandera2 = False\n",
    "n = input(\"Ingrese el numero de nodos: \")\n",
    "while True:\n",
    "    try:\n",
    "        strData = input(\"ingrese: vertice1,vertice2,distancia,AB,R,PP\")\n",
    "        strData = strData.strip()#eliminamos los espacios del frente y de atras\n",
    "        if strData == \"-1\":\n",
    "            print(strData)\n",
    "            bandera =True\n",
    "            break\n",
    "        Data = strData.split()#generamos un array con los datos\n",
    "        print(Data) #Debug\n",
    "        assert len(Data) == 6 #Lanzamos excepcion si no se cumple la condicion\n",
    "    except:\n",
    "        print(\"Hubo un error vuelva a introducir los datos solicitados\")\n",
    "        continue\n",
    "    #Verificamos la existencia de los vertices, y sino existe los creamos \n",
    "    if (G1.buscarVertice(Data[0]) == False):\n",
    "        G1.agregarVertice(Vertice(Data[0]))\n",
    "        print(\"Se creo el vertive \", Data[0])\n",
    "    if (G1.buscarVertice(Data[1]) == False):\n",
    "        G1.agregarVertice(Vertice(Data[1]))\n",
    "        print(\"Se creo el vertive \", Data[1])\n",
    "    #Creamos la arista en el grafo\n",
    "    G1.agregarArista(Arista(G1.buscarVertice(Data[0]),G1.buscarVertice(Data[1]),int(Data[2]),int(Data[3]),int(Data[4]),float(Data[5])))\n",
    "    cont += 1 #Incremento de condicion de salida del bucle mas interno\n",
    "    #G1.mostrarVecinos() #Debug\n",
    "metricas = []\n",
    "while not bandera2:\n",
    "    strEntrada = input(\"ingrese dos nodos: # #\")\n",
    "    strEntrada = strEntrada.strip()\n",
    "    print(strEntrada)\n",
    "    if strEntrada == \"-1\":\n",
    "        print(strEntrada)\n",
    "        bandera2 = True\n",
    "        for i in range(0,len(metricas)):\n",
    "            print(\"Caso #\",i+1)\n",
    "            print(\"Path: \",metricas[i][0])\n",
    "            print(\"Distancia: \",metricas[i][1])\n",
    "            print(\"Ancho de Banda: \",metricas[i][2])\n",
    "            print(\"Retardo:\",metricas[i][3])\n",
    "            print(\"Probabilidad de PP: \",metricas[i][4])\n",
    "            print(\"\")\n",
    "        break\n",
    "    entrada = strEntrada.split()\n",
    "    metrica = G1.buscarMenorDist(entrada[0],entrada[1]) \n",
    "    metricas.append(metrica)\n",
    "G1.mostrarGrafo()"
   ]
  }
 ],
 "metadata": {
  "kernelspec": {
   "display_name": ".venv",
   "language": "python",
   "name": "python3"
  },
  "language_info": {
   "codemirror_mode": {
    "name": "ipython",
    "version": 3
   },
   "file_extension": ".py",
   "mimetype": "text/x-python",
   "name": "python",
   "nbconvert_exporter": "python",
   "pygments_lexer": "ipython3",
   "version": "3.11.4"
  }
 },
 "nbformat": 4,
 "nbformat_minor": 2
}
