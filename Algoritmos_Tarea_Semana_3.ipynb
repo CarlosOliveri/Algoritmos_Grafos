{
  "cells": [
    {
      "cell_type": "markdown",
      "metadata": {
        "id": "N3HruXkg5M9m"
      },
      "source": [
        "# Tarea Semana 3  \n",
        "> Alumno: Carlos Oliveri "
      ]
    },
    {
      "cell_type": "markdown",
      "metadata": {
        "id": "kHA3s-y_5lvz"
      },
      "source": [
        "## Ejercitario Tarea 3\n",
        "# Ejercicio 1"
      ]
    },
    {
      "cell_type": "code",
      "execution_count": null,
      "metadata": {
        "colab": {
          "base_uri": "https://localhost:8080/"
        },
        "id": "gw-w35f15liB",
        "outputId": "a5abc5dc-ec32-4291-e545-e4af4ddc8dd5"
      },
      "outputs": [
        {
          "name": "stdout",
          "output_type": "stream",
          "text": [
            "False\n",
            "True\n",
            "False\n",
            "True\n"
          ]
        }
      ],
      "source": [
        "def busquedaRecursiva(x,list):\n",
        "  if len(list) == 0:\n",
        "    return False\n",
        "  elif x == list[0]:\n",
        "    return True\n",
        "  else:\n",
        "    return busquedaRecursiva(x,list[1:])\n",
        "##########################################\n",
        "list = [1, 4, 6, 3, 0, 8, 6, 4]\n",
        "print(busquedaRecursiva(9,list))\n",
        "print(busquedaRecursiva(3,list))\n",
        "print(busquedaRecursiva(14,list))\n",
        "print(busquedaRecursiva(6,list))"
      ]
    },
    {
      "cell_type": "markdown",
      "metadata": {
        "id": "Tploy4zl8QdD"
      },
      "source": [
        "# Ejercicio 2"
      ]
    },
    {
      "cell_type": "code",
      "execution_count": null,
      "metadata": {
        "colab": {
          "base_uri": "https://localhost:8080/"
        },
        "id": "Y8JkBnYy8T8V",
        "outputId": "8c0c1fea-58f1-4db4-9605-8f1159fdafa3"
      },
      "outputs": [
        {
          "name": "stdout",
          "output_type": "stream",
          "text": [
            "True\n"
          ]
        }
      ],
      "source": [
        "import math\n",
        "def busquedaRecursiva2(x,list):\n",
        "  if x == list[math.ceil(len(list)/2)-1]:\n",
        "    return True\n",
        "  elif len(list) == 1:\n",
        "    #print(math.ceil(len(list)/2),list[0:math.ceil(len(list)/2)-1])\n",
        "    return False\n",
        "  elif x > list[math.ceil(len(list)/2)-1]:\n",
        "    #print(math.ceil(len(list)/2),list[math.ceil(len(list)/2):])\n",
        "    return busquedaRecursiva2(x,list[math.ceil(len(list)/2):])\n",
        "  elif x < list[math.ceil(len(list)/2)-1]:\n",
        "    #print(math.ceil(len(list)/2),list[0:math.ceil(len(list)/2)-1])\n",
        "    return busquedaRecursiva2(x,list[0:math.ceil(len(list)/2)-1])\n",
        "\n",
        "def ordyBus(x,list):\n",
        "  list = sorted(list)\n",
        "  return busquedaRecursiva2(x,list)\n",
        "###########################################\n",
        "list = [1, 2, 3, 5, 6, 7, 8]\n",
        "print(ordyBus(8,list))"
      ]
    },
    {
      "cell_type": "markdown",
      "metadata": {
        "id": "k1lpw3tHHOyk"
      },
      "source": [
        "# Ejercicio 3"
      ]
    },
    {
      "cell_type": "code",
      "execution_count": null,
      "metadata": {
        "colab": {
          "base_uri": "https://localhost:8080/"
        },
        "id": "l2Cb_zY8D6fg",
        "outputId": "cd1e5e9e-c068-4ea4-8c00-6830f3204dec"
      },
      "outputs": [
        {
          "name": "stdout",
          "output_type": "stream",
          "text": [
            "20\n"
          ]
        }
      ],
      "source": [
        "def Max(list):\n",
        "  max = list[0]\n",
        "  if len(list) != 1:\n",
        "    aux = Max(list[1:])\n",
        "  else:\n",
        "    return list[0]\n",
        "  if max > aux:\n",
        "    return max\n",
        "  else:\n",
        "    return aux\n",
        "\n",
        "list = [20,14,16,1,13]\n",
        "print(Max(list))"
      ]
    },
    {
      "cell_type": "markdown",
      "metadata": {
        "id": "MpEmCJw-Izpn"
      },
      "source": [
        "# Ejercicio 4"
      ]
    },
    {
      "cell_type": "code",
      "execution_count": null,
      "metadata": {
        "colab": {
          "base_uri": "https://localhost:8080/"
        },
        "id": "VTs4daUHI2FI",
        "outputId": "07e7f21a-eda7-46b5-9421-ca900a794f62"
      },
      "outputs": [
        {
          "name": "stdout",
          "output_type": "stream",
          "text": [
            "[2, 5]\n"
          ]
        }
      ],
      "source": [
        "def soloNumeros(list):\n",
        "  if len(list) == 0:\n",
        "    return []\n",
        "  if not isinstance(list[0],(str,bool)):\n",
        "    return [list[0]]+soloNumeros(list[1:])\n",
        "  return soloNumeros(list[1:])\n",
        "list = [2,5,'a',False,\"Hola\"]\n",
        "print(soloNumeros(list))"
      ]
    },
    {
      "cell_type": "markdown",
      "metadata": {
        "id": "857Ry5at5v9T"
      },
      "source": [
        "# Ejercicio 5"
      ]
    },
    {
      "cell_type": "code",
      "execution_count": 4,
      "metadata": {
        "colab": {
          "base_uri": "https://localhost:8080/"
        },
        "id": "-IfQa5B05y8J",
        "outputId": "26d538af-c69f-4393-b719-43c8941e484a"
      },
      "outputs": [
        {
          "name": "stdout",
          "output_type": "stream",
          "text": [
            "[6, 5, 4, 3, 2, 1]\n"
          ]
        }
      ],
      "source": [
        "def reversa(list):\n",
        "  if len(list) == 1:\n",
        "    return list\n",
        "  return reversa(list[1:])+[list[0]]\n",
        "\n",
        "list = [1,2,3,4,5,6]\n",
        "print(reversa(list))\n"
      ]
    }
  ],
  "metadata": {
    "colab": {
      "provenance": []
    },
    "kernelspec": {
      "display_name": "Python 3",
      "name": "python3"
    },
    "language_info": {
      "name": "python"
    }
  },
  "nbformat": 4,
  "nbformat_minor": 0
}
