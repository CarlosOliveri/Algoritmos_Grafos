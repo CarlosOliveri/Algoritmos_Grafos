{
  "cells": [
    {
      "cell_type": "markdown",
      "metadata": {
        "id": "5XOyXaGbnpft"
      },
      "source": [
        "# Tarea Semana 2  \n",
        "> Carlos Oliveri  \n"
      ]
    },
    {
      "cell_type": "markdown",
      "metadata": {
        "id": "otCrpXX6o72l"
      },
      "source": [
        "# Implementacion de Clase Cola"
      ]
    },
    {
      "cell_type": "code",
      "execution_count": 20,
      "metadata": {
        "id": "B-QZmoLTnntF"
      },
      "outputs": [],
      "source": [
        "class Cola:\n",
        "  def __init__(self):\n",
        "    self.elementos = []\n",
        "\n",
        "  def quitar(self):\n",
        "    if len(self.elementos) == 0:\n",
        "      print(\"Cola vacia!!!\")\n",
        "      return None\n",
        "    return self.elementos.pop(0)\n",
        "\n",
        "  def agregar(self,elemento_nuevo):\n",
        "    self.elementos.append(elemento_nuevo)\n",
        "\n",
        "  def mostrarCola(self):\n",
        "    print(self.elementos)\n",
        "\n",
        "  def tamanho(self):\n",
        "    print(len(self.elementos))\n",
        "\n",
        "  def esVacia(self):\n",
        "    return len(self.elementos) == 0"
      ]
    },
    {
      "cell_type": "markdown",
      "metadata": {
        "id": "VeoCju0zpBFR"
      },
      "source": [
        "# Implementacion de Clase Pila"
      ]
    },
    {
      "cell_type": "code",
      "execution_count": 2,
      "metadata": {
        "id": "t0sxhV8UpFBl"
      },
      "outputs": [],
      "source": [
        "class Pila:\n",
        "    #Constructor\n",
        "    def __init__(self):\n",
        "        self.elementos = []\n",
        "\n",
        "    #Insertar un elemento\n",
        "    def insertar(self,dato):\n",
        "        self.elementos.append(dato)\n",
        "\n",
        "    #Está vacía?\n",
        "    def esta_Vacia(self):\n",
        "        return len(self.elementos)==0\n",
        "\n",
        "    #Sacar un elemento\n",
        "    def quitar(self):\n",
        "        if self.esta_Vacia():\n",
        "            print(\"La lista esta vacia!! Retorna None...\")\n",
        "            return None\n",
        "        return self.elementos.pop()\n",
        "\n",
        "    #Limpiar la pila\n",
        "    def limpiar(self):\n",
        "        del self.elementos[:]\n",
        "\n",
        "    #Cima de la pila\n",
        "    def cima(self):\n",
        "        if self.esta_Vacia():\n",
        "            print(\"La lista esta vacia!! Retorna None...\")\n",
        "            return None\n",
        "        return self.elementos[-1]\n",
        "\n",
        "    #Tamaño de la pila\n",
        "    def tamanho(self):\n",
        "        return len(self.elementos)\n",
        "\n",
        "    #Mostrar elementos de la pila\n",
        "    def mostrarElementos(self):\n",
        "        print(\"Los elementos de la pila son:\")\n",
        "        print(self.elementos)"
      ]
    },
    {
      "cell_type": "markdown",
      "metadata": {
        "id": "Ky7c1KywrlGq"
      },
      "source": [
        "# Ejercicio 1"
      ]
    },
    {
      "cell_type": "code",
      "execution_count": null,
      "metadata": {
        "colab": {
          "base_uri": "https://localhost:8080/"
        },
        "id": "XKWC23U6pTGO",
        "outputId": "75eacc67-8078-4bc8-d371-c3d267bbecf8"
      },
      "outputs": [
        {
          "name": "stdout",
          "output_type": "stream",
          "text": [
            "- 1: Para salir\n",
            "- 2: Para agregar elemento a la cola\n",
            "- 3: Para quitar elemento de la cola\n",
            "- 4: Para mostrar los elementos de la cola\n",
            "ingrese su opcion: 2\n",
            "Ingrese el nuevo elemento: 6.6\n",
            "Solo se admiten elementos que sean numeros enteros!!!\n",
            "ingrese su opcion: 2\n",
            "Ingrese el nuevo elemento: 5\n",
            "ingrese su opcion: 4\n",
            "[5]\n",
            "ingrese su opcion: 3\n",
            "ingrese su opcion: 4\n",
            "[]\n",
            "ingrese su opcion: 1\n"
          ]
        }
      ],
      "source": [
        "cola = Cola()\n",
        "opcion = 0\n",
        "print (\"- 1: Para salir\")\n",
        "print (\"- 2: Para agregar elemento a la cola\")\n",
        "print (\"- 3: Para quitar elemento de la cola\")\n",
        "print (\"- 4: Para mostrar los elementos de la cola\")\n",
        "while opcion != \"1\":\n",
        "  try:\n",
        "    if opcion == \"1\":\n",
        "      break\n",
        "    elif opcion == \"2\":\n",
        "      elemento_nuevo = input(\"Ingrese el nuevo elemento: \")\n",
        "      elemento_nuevo = float(elemento_nuevo)\n",
        "      if elemento_nuevo != int(elemento_nuevo):\n",
        "        print(\"Solo se admiten elementos que sean numeros enteros!!!\")\n",
        "      else:\n",
        "        cola.agregar(int(elemento_nuevo))\n",
        "    elif opcion == \"3\":\n",
        "      cola.quitar()\n",
        "    elif opcion == \"4\":\n",
        "      cola.mostrarCola()\n",
        "    else:\n",
        "      pass\n",
        "    opcion = input(\"ingrese su opcion: \")\n",
        "  except:\n",
        "    print(\"El programa termino abrutamente!!!\")\n",
        "    break"
      ]
    },
    {
      "cell_type": "markdown",
      "metadata": {
        "id": "jiJPhuZMtU0F"
      },
      "source": [
        "# Ejercicio 2"
      ]
    },
    {
      "cell_type": "code",
      "execution_count": null,
      "metadata": {
        "colab": {
          "base_uri": "https://localhost:8080/"
        },
        "id": "QlhDAXXFtUYY",
        "outputId": "fad0d0bc-d183-417e-a6b1-62be4700cc3b"
      },
      "outputs": [
        {
          "name": "stdout",
          "output_type": "stream",
          "text": [
            "- 1: Para salir\n",
            "- 2: Para agregar elemento a la cola\n",
            "- 3: Para quitar elemento de la cola\n",
            "- 4: Para mostrar los elementos de la cola\n",
            "- 5: Para mostrar el numero de elementos que hay en la cola\n",
            "ingrese su opcion: 2\n",
            "Ingrese el nuevo elemento: 4\n",
            "ingrese su opcion: 1\n"
          ]
        }
      ],
      "source": [
        "cola = Cola()\n",
        "opcion = 0\n",
        "print (\"- 1: Para salir\")\n",
        "print (\"- 2: Para agregar elemento a la cola\")\n",
        "print (\"- 3: Para quitar elemento de la cola\")\n",
        "print (\"- 4: Para mostrar los elementos de la cola\")\n",
        "print (\"- 5: Para mostrar el numero de elementos que hay en la cola\")\n",
        "while opcion != \"1\":\n",
        "  try:\n",
        "    if opcion == \"2\":\n",
        "      elemento_nuevo = input(\"Ingrese el nuevo elemento: \")\n",
        "      elemento_nuevo = float(elemento_nuevo)\n",
        "      if elemento_nuevo%2 == 0:\n",
        "        cola.agregar(int(elemento_nuevo))\n",
        "      else:\n",
        "        print(\"El numero introducido es Impar, no se admite!!!\")\n",
        "    elif opcion == \"3\":\n",
        "      cola.quitar()\n",
        "    elif opcion == \"4\":\n",
        "      cola.mostrarCola()\n",
        "    elif opcion ==\"5\":\n",
        "      cola.tamanho()\n",
        "    else:\n",
        "      pass\n",
        "    opcion = input(\"ingrese su opcion: \")\n",
        "  except:\n",
        "    print(\"El programa termino abrutamente!!!\")\n",
        "    break"
      ]
    },
    {
      "cell_type": "markdown",
      "metadata": {
        "id": "0O08MqIixYNE"
      },
      "source": [
        "# Ejercicio 3"
      ]
    },
    {
      "cell_type": "code",
      "execution_count": null,
      "metadata": {
        "id": "6-OZ406hxz3u"
      },
      "outputs": [],
      "source": [
        "def esPrimo(n):\n",
        "  mitad = int(n/2)\n",
        "  try:\n",
        "    for k in range(2,mitad+1):\n",
        "      if n%k == 0:\n",
        "        return False\n",
        "      else:\n",
        "        pass\n",
        "    return True\n",
        "  except:\n",
        "    return True"
      ]
    },
    {
      "cell_type": "code",
      "execution_count": null,
      "metadata": {
        "colab": {
          "base_uri": "https://localhost:8080/"
        },
        "id": "bkmSB5QZxadE",
        "outputId": "8ec0b157-7ea8-4b2a-aea0-b8343e155b91"
      },
      "outputs": [
        {
          "name": "stdout",
          "output_type": "stream",
          "text": [
            "- 1: Para salir\n",
            "- 2: Para agregar elemento a la cola\n",
            "- 3: Para quitar elemento de la cola\n",
            "- 4: Para mostrar los elementos de la cola\n",
            "- 5: Para mostrar el numero de elementos que hay en la cola\n",
            "ingrese su opcion: 2\n",
            "Ingrese el nuevo elemento: 1\n",
            "ingrese su opcion: 4\n",
            "[1]\n",
            "ingrese su opcion: 2\n",
            "Ingrese el nuevo elemento: 2\n",
            "ingrese su opcion: 2\n",
            "Ingrese el nuevo elemento: 3\n",
            "ingrese su opcion: 4\n",
            "[1, 2, 3]\n",
            "ingrese su opcion: 5\n",
            "Hay 3 en la cola\n",
            "ingrese su opcion: 2\n",
            "Ingrese el nuevo elemento: 5\n",
            "ingrese su opcion: 4\n",
            "[1, 2, 3, 5]\n",
            "ingrese su opcion: 2\n",
            "Ingrese el nuevo elemento: 4\n",
            "El numero introducido no es Primo, no se admite!!!\n",
            "ingrese su opcion: 4\n",
            "[1, 2, 3, 5]\n",
            "ingrese su opcion: 3\n",
            "ingrese su opcion: 4\n",
            "[2, 3, 5]\n",
            "El programa termino abrutamente!!!\n"
          ]
        }
      ],
      "source": [
        "cola = Cola()\n",
        "opcion = 0\n",
        "print (\"- 1: Para salir\")\n",
        "print (\"- 2: Para agregar elemento a la cola\")\n",
        "print (\"- 3: Para quitar elemento de la cola\")\n",
        "print (\"- 4: Para mostrar los elementos de la cola\")\n",
        "print (\"- 5: Para mostrar el numero de elementos que hay en la cola\")\n",
        "while opcion != \"1\":\n",
        "  try:\n",
        "    if opcion == \"2\":\n",
        "      elemento_nuevo = input(\"Ingrese el nuevo elemento: \")\n",
        "      elemento_nuevo = int(elemento_nuevo)\n",
        "      if esPrimo(elemento_nuevo):\n",
        "        cola.agregar(elemento_nuevo)\n",
        "      else:\n",
        "        print(\"El numero introducido no es Primo, no se admite!!!\")\n",
        "    elif opcion == \"3\":\n",
        "      cola.quitar()\n",
        "    elif opcion == \"4\":\n",
        "      cola.mostrarCola()\n",
        "    elif opcion ==\"5\":\n",
        "      cola.tamanho()\n",
        "    else:\n",
        "      pass\n",
        "    opcion = input(\"ingrese su opcion: \")\n",
        "  except:\n",
        "    print(\"El programa termino abrutamente!!!\")\n",
        "    break"
      ]
    },
    {
      "cell_type": "markdown",
      "metadata": {
        "id": "JiSi1hK1zyw5"
      },
      "source": [
        "# Ejericio 4"
      ]
    },
    {
      "cell_type": "code",
      "execution_count": null,
      "metadata": {
        "colab": {
          "base_uri": "https://localhost:8080/"
        },
        "id": "KB4UkmJgz1Yt",
        "outputId": "15250658-dcd4-448d-f88f-8cbbbf07da4a"
      },
      "outputs": [
        {
          "name": "stdout",
          "output_type": "stream",
          "text": [
            "- 1: Para salir\n",
            "- 2: Para agregar elemento a la Pila\n",
            "- 3: Para quitar elemento de la Pila\n",
            "- 4: Para mostrar los elementos de la Pila\n",
            "- 5: Para mostrar el numero de elementos que hay en la Pila\n",
            "ingrese su opcion: 2\n",
            "Ingrese el nuevo elemento: hg\n",
            "ingrese su opcion: 4\n",
            "Los elementos de la pila son:\n",
            "['hg']\n",
            "ingrese su opcion: 2\n",
            "Ingrese el nuevo elemento: 56\n",
            "ingrese su opcion: 4\n",
            "Los elementos de la pila son:\n",
            "['hg', '56']\n",
            "ingrese su opcion: \n",
            "ingrese su opcion: 2\n",
            "Ingrese el nuevo elemento: \n",
            "El numero introducido no es Primo, no se admite!!!\n",
            "El programa termino abrutamente!!!\n"
          ]
        }
      ],
      "source": [
        "pila = Pila()\n",
        "opcion = 0\n",
        "print (\"- 1: Para salir\")\n",
        "print (\"- 2: Para agregar elemento a la Pila\")\n",
        "print (\"- 3: Para quitar elemento de la Pila\")\n",
        "print (\"- 4: Para mostrar los elementos de la Pila\")\n",
        "print (\"- 5: Para mostrar el numero de elementos que hay en la Pila\")\n",
        "while opcion != \"1\":\n",
        "  try:\n",
        "    if opcion == \"2\":\n",
        "      elemento_nuevo = input(\"Ingrese el nuevo elemento: \")\n",
        "      if elemento_nuevo != \"\":\n",
        "        pila.insertar(elemento_nuevo)\n",
        "      else:\n",
        "        print(\"No se admiten entradas en blanco!!!\")\n",
        "    elif opcion == \"3\":\n",
        "      pila.quitar()\n",
        "    elif opcion == \"4\":\n",
        "      pila.mostrarElementos()\n",
        "    elif opcion ==\"5\":\n",
        "      pila.tamanho()\n",
        "    else:\n",
        "      pass\n",
        "    opcion = input(\"ingrese su opcion: \")\n",
        "  except:\n",
        "    print(\"El programa termino abrutamente!!!\")\n",
        "    break"
      ]
    },
    {
      "cell_type": "markdown",
      "metadata": {
        "id": "jDHk-TES3NzG"
      },
      "source": [
        "# Ejercicio 5"
      ]
    },
    {
      "cell_type": "code",
      "execution_count": 12,
      "metadata": {
        "colab": {
          "base_uri": "https://localhost:8080/"
        },
        "id": "bc6YMkcM3QeZ",
        "outputId": "c8a35615-2c80-4fc0-9656-b7b0c4225667"
      },
      "outputs": [
        {
          "name": "stdout",
          "output_type": "stream",
          "text": [
            "Ingrese una cadena de caracteres: abeaobuouo\n",
            "Entradas: ['a', 'b', 'e', 'a', 'o', 'b', 'u', 'o', 'u', 'o']\n",
            "Salidas:  ['a', 'a', 'a', -1, 'b', -1, 'e', 'e', 'e', 'e']\n"
          ]
        }
      ],
      "source": [
        "def ulNoRep(cadena):\n",
        "  ulnorep = Cola()\n",
        "  salida = []\n",
        "  for k in cadena:\n",
        "    try:\n",
        "      if k == ulnorep.elementos[0]:\n",
        "        if o\n",
        "        salida.append(-1)\n",
        "        ulnorep.quitar()\n",
        "      else:\n",
        "        ulnorep.agregar(k)\n",
        "        salida.append(ulnorep.elementos[0])\n",
        "    except:\n",
        "      ulnorep.agregar(k)\n",
        "      salida.append(k)\n",
        "  return salida\n",
        "cadena = input(\"Ingrese una cadena de caracteres: \")\n",
        "print(\"Entradas:\",list(cadena))\n",
        "print(\"Salidas: \",ulNoRep(cadena))"
      ]
    },
    {
      "cell_type": "markdown",
      "metadata": {
        "id": "snDQTr8KeYq3"
      },
      "source": [
        "# Ejercicio 6"
      ]
    },
    {
      "cell_type": "code",
      "execution_count": 18,
      "metadata": {
        "colab": {
          "base_uri": "https://localhost:8080/"
        },
        "id": "qk8dpteeebvN",
        "outputId": "709b2cdf-9294-4f04-a150-9c64689c38d8"
      },
      "outputs": [
        {
          "name": "stdout",
          "output_type": "stream",
          "text": [
            "ingrese una cadena de caracteres: lopopo\n",
            "No es una cadena Palíndroma\n"
          ]
        }
      ],
      "source": [
        "def esPalin(cadena):\n",
        "  cola = Cola()\n",
        "  pila = Pila()\n",
        "  for k in cadena:\n",
        "    cola.agregar(k)\n",
        "    pila.insertar(k)\n",
        "  for k in cadena:\n",
        "    outcola = cola.quitar()\n",
        "    outpila = pila.quitar()\n",
        "    if outcola != outpila:\n",
        "      print(\"No es una cadena Palíndroma\")\n",
        "      return None\n",
        "  print(\"Es una cadena Palíndroma\")\n",
        "cadena = input(\"ingrese una cadena de caracteres: \")\n",
        "esPalin(cadena)"
      ]
    },
    {
      "cell_type": "markdown",
      "metadata": {
        "id": "Os2jTns8gT9x"
      },
      "source": [
        "# Ejercicio 7"
      ]
    },
    {
      "cell_type": "code",
      "execution_count": 32,
      "metadata": {
        "id": "qdXp-C1ygWPo"
      },
      "outputs": [],
      "source": [
        "class torreDeControl():\n",
        "  def __init__(self):\n",
        "    self.despegues = Cola()\n",
        "    self.aterrizajes = Cola()\n",
        "  def asignarPista(self):\n",
        "    if self.aterrizajes.esVacia():\n",
        "      if self.despegues.esVacia():\n",
        "        print(\"No hay vuelos en espera\")\n",
        "      else:\n",
        "        print(\"El vuelo \",self.despegues.quitar(),\" Despegó con éxito\")\n",
        "    else:\n",
        "      print(\"El vuelo \",self.aterrizajes.quitar(),\" Aterrizó con éxito\")\n",
        "\n",
        "  def nuevoAterrizaje(self,vuelo):\n",
        "    self.aterrizajes.agregar(vuelo)\n",
        "\n",
        "  def nuevoDespegue(self,vuelo):\n",
        "    self.despegues.agregar(vuelo)\n",
        "\n",
        "  def verEstado(self):\n",
        "    print(\"Vuelos esperando para aterrizar: \",self.aterrizajes.mostrarCola())\n",
        "    print(\"Vuelos esperando para despegar: \",self.despegues.mostrarCola())\n",
        "\n"
      ]
    },
    {
      "cell_type": "code",
      "execution_count": 33,
      "metadata": {
        "colab": {
          "base_uri": "https://localhost:8080/"
        },
        "id": "DxU93-p-k_ir",
        "outputId": "c9a440e8-aae8-4da1-9957-ef40feee6892"
      },
      "outputs": [
        {
          "name": "stdout",
          "output_type": "stream",
          "text": [
            "['HET827', 'UJF685']\n",
            "Vuelos esperando para aterrizar:  None\n",
            "['ARD347', 'OTP085']\n",
            "Vuelos esperando para despegar:  None\n",
            "El vuelo  HET827  Aterrizó con éxito\n",
            "El vuelo  UJF685  Aterrizó con éxito\n",
            "El vuelo  ARD347  Despegó con éxito\n",
            "El vuelo  OTP085  Despegó con éxito\n",
            "No hay vuelos en espera\n"
          ]
        }
      ],
      "source": [
        "torre = torreDeControl()\n",
        "torre.nuevoDespegue(\"ARD347\")\n",
        "torre.nuevoAterrizaje(\"HET827\")\n",
        "torre.nuevoDespegue(\"OTP085\")\n",
        "torre.nuevoAterrizaje(\"UJF685\")\n",
        "torre.verEstado()\n",
        "torre.asignarPista()\n",
        "torre.asignarPista()\n",
        "torre.asignarPista()\n",
        "torre.asignarPista()\n",
        "torre.asignarPista()"
      ]
    },
    {
      "cell_type": "markdown",
      "metadata": {
        "id": "QFnr-tn6m1q9"
      },
      "source": [
        "No se porque al ejecutar elmetoso \".verEstado()\" de la clase \"torreDeControl()\", imprime primero la lista y despues el mensaje y en el lugar donde se supone deberia imprimir la lista tira \"None\""
      ]
    }
  ],
  "metadata": {
    "colab": {
      "provenance": []
    },
    "kernelspec": {
      "display_name": "Python 3",
      "name": "python3"
    },
    "language_info": {
      "name": "python"
    }
  },
  "nbformat": 4,
  "nbformat_minor": 0
}
