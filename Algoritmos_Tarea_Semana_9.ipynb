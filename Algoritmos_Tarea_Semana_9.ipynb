{
  "cells": [
    {
      "cell_type": "markdown",
      "metadata": {
        "id": "kvf74617MVyU"
      },
      "source": [
        "# Tarea 9\n",
        ">Carlos Oliveri "
      ]
    },
    {
      "cell_type": "code",
      "execution_count": 1,
      "metadata": {
        "id": "-gCThDinKKQM"
      },
      "outputs": [],
      "source": [
        "import matplotlib.pyplot as plt\n",
        "import networkx as nx"
      ]
    },
    {
      "cell_type": "code",
      "execution_count": 55,
      "metadata": {
        "id": "ZRXOwsP8M0Cj"
      },
      "outputs": [],
      "source": [
        "class Vertice:\n",
        "  def __init__(self,x):\n",
        "    self.clave = x\n",
        "    self.vecinos = []\n",
        "    self.dist = 0\n",
        "    self.color = 'blanco'\n",
        "    self.padre = None\n",
        "\n",
        "class Grafos:\n",
        "  def __init__(self):\n",
        "    self.vertices = []\n",
        "    self.s = None\n",
        "\n",
        "  def agregarVertice(self,n):\n",
        "    self.vertices.append(n)\n",
        "\n",
        "  def agregarAristas(self,a,b,c):\n",
        "    a.vecinos.append((b,c))\n",
        "    #b.vecinos.append((a,c,0))\n",
        "\n",
        "  #Esta funcion busca un Vertice a partir de su Clave\n",
        "  def buscarNodo(self,ciudad):\n",
        "    for j in self.vertices:\n",
        "      if j.clave == ciudad:\n",
        "        return j #Devuelve el objeto si lo encuentra\n",
        "    return False #Si no lo encuentra devuelve False\n",
        "\n",
        "  ''' def mostrarGrafos(self):\n",
        "    G = nx.Graph()\n",
        "    for u in self.vertices:\n",
        "      for v in u.vecinos:\n",
        "        G.add_edge(u.clave,v[0].clave)\n",
        "    nx.draw_circular(G,with_labels = True)\n",
        "    plt.show() '''\n",
        "\n",
        "  def mostrarGrafo(self):\n",
        "    G = nx.DiGraph()\n",
        "    for u in self.vertices:\n",
        "      G.add_node(u.clave) #para mostrar vértices sin aristas incidentes o de salida\n",
        "    for u in self.vertices:\n",
        "      for v in u.vecinos:\n",
        "        G.add_edge(u.clave,v[0].clave,weight=v[1])\n",
        "    pos = nx.circular_layout(G)\n",
        "    labels = nx.get_edge_attributes(G,'weight')\n",
        "    nx.draw_networkx(G,pos,node_size=700)\n",
        "    nx.draw_networkx_edge_labels(G,pos,edge_labels=labels)\n",
        "    for a in pos:\n",
        "      u = self.buscarNodo(a)\n",
        "      x,y=pos[a]\n",
        "      plt.text(x,y+0.2,s=str(u.dist), bbox=dict(facecolor='red', alpha=0.5),horizontalalignment='center')\n",
        "    plt.axis('off')\n",
        "    plt.show()\n",
        "\n",
        "  def mayorDist(self,s):\n",
        "    global maxDist, objet\n",
        "    for u in self.vertices:\n",
        "      u.padre = None\n",
        "      u.color = 'blanco'\n",
        "      u.dist = 0\n",
        "    maxDist = 0\n",
        "    s.color = 'gris'\n",
        "    fila = Cola()\n",
        "    fila.agregar(s)\n",
        "    while not fila.vacia():\n",
        "      u = fila.quitar()\n",
        "      for v in u.vecinos:\n",
        "        if v[0].color == 'blanco':\n",
        "          v[0].color = 'gris'\n",
        "          v[0].padre = u\n",
        "          v[0].dist = u.dist + v[1]\n",
        "          if maxDist < v[0].dist:\n",
        "            maxDist = v[0].dist\n",
        "            objet = v[0]\n",
        "          fila.agregar(v[0])\n",
        "      u.color = 'negro'\n",
        "    return maxDist,objet\n",
        "\n",
        "  # Devuelve el vecino mas cercano al vertice enviado,\n",
        "  #utilizado para generar el MST\n",
        "  def menorDistVecino(self,u):\n",
        "    minDist = 1000\n",
        "    objet = None\n",
        "    for v in u.vecinos:\n",
        "      if v[0].color == 'blanco':\n",
        "        if minDist > v[1]:\n",
        "          minDist = v[1]\n",
        "          objet = v\n",
        "    return objet\n",
        "\n",
        "  def createMst(self):\n",
        "    for v in self.vertices:\n",
        "      v.padre = None\n",
        "      v.color = 'blanco'\n",
        "      v.dist = 0\n",
        "    mst = []\n",
        "    u = self.vertices[0]\n",
        "    u.color = 'gris'\n",
        "    mst.append((None,u,0))\n",
        "    while len(mst) < len(self.vertices):\n",
        "      objet = (None,None,1000)\n",
        "      for v in mst:\n",
        "        vecinoMenorDistancia = self.menorDistVecino(v[1])\n",
        "        #print(v[1].clave,vecinoMenorDistancia[0].clave,vecinoMenorDistancia[1])\n",
        "        try:\n",
        "          if vecinoMenorDistancia[1] < objet[2]:\n",
        "            objet = (v[1],vecinoMenorDistancia[0],vecinoMenorDistancia[1])\n",
        "        except:\n",
        "          pass\n",
        "      objet[1].color = 'gris'\n",
        "      objet[1].padre = objet[0]\n",
        "      mst.append(objet)\n",
        "    return mst\n",
        "\n",
        "class Cola:\n",
        "  def __init__(self):\n",
        "    self.elementos = []\n",
        "  def quitar(self):\n",
        "    if len(self.elementos) == 0:\n",
        "      print(\"Cola vacia!!!\")\n",
        "      return None\n",
        "    return self.elementos.pop(0)\n",
        "  def agregar(self,elementoNuevo):\n",
        "    self.elementos.append(elementoNuevo)\n",
        "  def vacia(self):\n",
        "    if len(self.elementos) == 0:\n",
        "      return True\n",
        "\n",
        "def inicializar_Dist_Grafo(G):\n",
        "    pesoMax = 10000000000\n",
        "    n = len(G.vertices)\n",
        "    for v in G.vertices:\n",
        "        v.dist = n*pesoMax\n",
        "        v.padre = None\n",
        "    G.s.dist = 0\n",
        "\n",
        "def relajar(u,v,p):\n",
        "    if v.dist > u.dist + p:\n",
        "        v.dist = u.dist + p\n",
        "        v.padre = u\n",
        "\n",
        "def BellmanFord(G):\n",
        "    inicializar_Dist_Grafo(G)\n",
        "    n = len(G.vertices)\n",
        "    #for i in range(n-1):\n",
        "    for u in G.vertices:\n",
        "      for v in u.vecinos:\n",
        "        relajar(u,v[0],v[1])\n",
        "    for u in G.vertices:\n",
        "      for v in u.vecinos:\n",
        "        if v[0].dist > u.dist + v[1]:\n",
        "          return False\n",
        "    return True"
      ]
    },
    {
      "cell_type": "code",
      "execution_count": 56,
      "metadata": {
        "colab": {
          "base_uri": "https://localhost:8080/",
          "height": 659
        },
        "id": "hKOtwQWEM9bF",
        "outputId": "08772c71-f1d3-4f63-b567-15f5d2059892"
      },
      "outputs": [
        {
          "name": "stdout",
          "output_type": "stream",
          "text": [
            "ingrese los vertices del grafo\n",
            "s t x y\n",
            "Indique cual vertice es el vertice 's'\n",
            "s\n",
            "ingrese las relaciones entre los vertices y su direccion el orden de los vertices determina la direccion:\n",
            "s t 6\n",
            "ingrese las relaciones entre los vertices y su direccion el orden de los vertices determina la direccion:\n",
            "t x -2\n",
            "ingrese las relaciones entre los vertices y su direccion el orden de los vertices determina la direccion:\n",
            "y x 7\n",
            "ingrese las relaciones entre los vertices y su direccion el orden de los vertices determina la direccion:\n",
            "y s 2\n",
            "ingrese las relaciones entre los vertices y su direccion el orden de los vertices determina la direccion:\n",
            "-1\n"
          ]
        },
        {
          "data": {
            "image/png": "[encoded data removed]",
            "text/plain": [
              "<Figure size 640x480 with 1 Axes>"
            ]
          },
          "metadata": {},
          "output_type": "display_data"
        }
      ],
      "source": [
        "g1 = Grafos() #Creamos un Grafo Vacio\n",
        "print(\"ingrese los vertices del grafo\")\n",
        "entrada = input()\n",
        "entrada = entrada.strip()\n",
        "entrada = entrada.split()\n",
        "for k in entrada:\n",
        "  g1.agregarVertice( Vertice(k) )\n",
        "n = 0\n",
        "print(\"Indique cual vertice es el vertice 's'\")\n",
        "entrada = input()\n",
        "entrada = entrada.strip()\n",
        "g1.s = g1.buscarNodo(entrada)\n",
        "\n",
        "while n == 0:\n",
        "  print(\"ingrese las relaciones entre los vertices y su direccion el orden de los vertices determina la direccion:\")\n",
        "  entrada = input()\n",
        "  entrada = entrada.strip()\n",
        "  entrada = entrada.split()\n",
        "  if entrada[0] == '-1':\n",
        "    n = 1\n",
        "  else:\n",
        "    # validacion de formato de entrada / no esta del todo bien validado\n",
        "    while len(entrada) != 3:\n",
        "      print('Entrada invalida vuelva a intentar: \"1 2 3\"')\n",
        "      entrada = input()\n",
        "      entrada = entrada.strip()\n",
        "      entrada = entrada.split()\n",
        "    g1.agregarAristas(g1.buscarNodo(entrada[0]),g1.buscarNodo(entrada[1]),int(entrada[2]))\n",
        "g1.mostrarGrafo()"
      ]
    },
    {
      "cell_type": "code",
      "execution_count": 57,
      "metadata": {
        "colab": {
          "base_uri": "https://localhost:8080/"
        },
        "id": "u7AXMDOGs7bq",
        "outputId": "707a9043-da73-41ef-a87a-580ed8f0985a"
      },
      "outputs": [
        {
          "name": "stdout",
          "output_type": "stream",
          "text": [
            "Se encontro un nodo inalcanzable: \n",
            "y\n",
            "Busqueda terminada\n"
          ]
        }
      ],
      "source": [
        "BellmanFord(g1)\n",
        "bandera = 0\n",
        "for v in g1.vertices:\n",
        "  if v.dist >= 1000000000:\n",
        "    bandera = 1\n",
        "    print(\"Se encontro un nodo inalcanzable: \")\n",
        "    print(v.clave)\n",
        "    break\n",
        "print(\"Busqueda terminada\")\n"
      ]
    }
  ],
  "metadata": {
    "colab": {
      "provenance": []
    },
    "kernelspec": {
      "display_name": "Python 3",
      "name": "python3"
    },
    "language_info": {
      "name": "python"
    }
  },
  "nbformat": 4,
  "nbformat_minor": 0
}
