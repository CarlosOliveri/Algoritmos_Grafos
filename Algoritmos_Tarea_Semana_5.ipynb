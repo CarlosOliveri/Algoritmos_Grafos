{
  "nbformat": 4,
  "nbformat_minor": 0,
  "metadata": {
    "colab": {
      "provenance": []
    },
    "kernelspec": {
      "name": "python3",
      "display_name": "Python 3"
    },
    "language_info": {
      "name": "python"
    }
  },
  "cells": [
    {
      "cell_type": "markdown",
      "source": [
        "# Tarea N° 5 Semana 5\n",
        "> Estructura de Datos: Arboles Binarios  \n",
        "> Carlos Enmanuel Oliveri Martinez  \n",
        "> 5234661  \n",
        "> Mecatrónica"
      ],
      "metadata": {
        "id": "abtQ0fjr1_aa"
      }
    },
    {
      "cell_type": "code",
      "execution_count": 28,
      "metadata": {
        "id": "kqIBABL319Fv"
      },
      "outputs": [],
      "source": [
        "class Nodo:\n",
        "  def __init__(self,x):\n",
        "    self.padre = None\n",
        "    self.hijo_izq = None\n",
        "    self.hijo_der = None\n",
        "    self.clave = x\n",
        "\n",
        "class ArbolBST:\n",
        "  def __init__(self):\n",
        "    self.raiz = None\n",
        "\n",
        "  '''def insertar(self,clave):\n",
        "    y = None\n",
        "    x = self.raiz\n",
        "    n = Nodo(clave)\n",
        "    while x!= None:\n",
        "      y = x\n",
        "      if n.clave <= x.clave:\n",
        "        x = x.hijo_izq\n",
        "      else:\n",
        "        x= x.hijo_der\n",
        "    n.padre = y\n",
        "    if y == None:\n",
        "      self.raiz = n\n",
        "    else:\n",
        "      if n.clave <= y.clave:\n",
        "        y.hijo_izq = n\n",
        "      else:\n",
        "        y.hijo_der = n'''\n",
        "\n",
        "  def mostrarArbolBin(self,sangria=4):\n",
        "    if self.raiz==None:\n",
        "      print(\"El arbol está vacío!\")\n",
        "      return\n",
        "    print(\"El arbol es:\")\n",
        "    def mostrarArbolBinRec(nodo, cadena):\n",
        "      print(str(nodo.clave))\n",
        "      #Para el hijo izquierdo\n",
        "      if nodo.hijo_izq!=None:\n",
        "        if nodo.hijo_der!=None: #para colocar el caracter ├ o no en la impresion\n",
        "          print(cadena+ \"├\" + \"─\" * sangria, end=\"\")\n",
        "          mostrarArbolBinRec(nodo.hijo_izq, cadena + \"│\" + \" \"*sangria)\n",
        "        else:\n",
        "          print(cadena+ \"└\" + \"─\" * sangria, end=\"\")\n",
        "          mostrarArbolBinRec(nodo.hijo_izq, cadena + \" \"*(sangria+1))\n",
        "        #Para el hijo derecho\n",
        "      if nodo.hijo_der!=None:\n",
        "        print(cadena+ \"└\" + \"─\" * sangria, end=\"\")\n",
        "        mostrarArbolBinRec(nodo.hijo_der, cadena + \" \"*(sangria+1))\n",
        "    mostrarArbolBinRec(self.raiz,\"\")"
      ]
    },
    {
      "cell_type": "code",
      "source": [
        "def eSimetrico(arbol):\n",
        "  nodo1 = arbol.raiz.hijo_der\n",
        "  nodo2 = arbol.raiz.hijo_izq\n",
        "  def iguales(nodo1,nodo2):\n",
        "    if nodo1 == None and nodo2 == None:\n",
        "      return True\n",
        "    elif nodo1 == None or nodo2 == None:\n",
        "      return False\n",
        "    else:\n",
        "      if nodo1.clave == nodo2.clave and iguales(nodo1.hijo_der,nodo2.hijo_izq) and iguales(nodo1.hijo_izq,nodo2.hijo_der):\n",
        "        return True\n",
        "      else:\n",
        "        return False\n",
        "  return iguales(nodo1,nodo2)"
      ],
      "metadata": {
        "id": "ISuWHO6ct6Uo"
      },
      "execution_count": 29,
      "outputs": []
    },
    {
      "cell_type": "code",
      "source": [
        "arbol1 = ArbolBST()\n",
        "arbol2 = ArbolBST()"
      ],
      "metadata": {
        "id": "X02zrfN-2lYr"
      },
      "execution_count": 30,
      "outputs": []
    },
    {
      "cell_type": "code",
      "source": [
        "nodo1 = Nodo(10); arbol1.raiz = nodo1;nodo1.padre = None\n",
        "nodo2 = Nodo(2);nodo1.hijo_der = nodo2;nodo2.padre = nodo1\n",
        "nodo3 = Nodo(2);nodo1.hijo_izq = nodo3;nodo3.padre = nodo1\n",
        "nodo4 = Nodo(3);nodo2.hijo_der = nodo4;nodo4.padre = nodo2\n",
        "nodo5 = Nodo(4);nodo2.hijo_izq = nodo5;nodo5.padre = nodo2\n",
        "nodo6 = Nodo(4);nodo3.hijo_der = nodo6;nodo6.padre = nodo3\n",
        "nodo7 = Nodo(3);nodo3.hijo_izq = nodo7;nodo7.padre = nodo3\n",
        "nodo8 = Nodo(6);nodo4.hijo_der = nodo8;nodo8.padre = nodo4\n",
        "nodo9 = Nodo(7);nodo4.hijo_izq = nodo9;nodo9.padre = nodo4\n",
        "nodo10 = Nodo(8);nodo5.hijo_der = nodo10;nodo10.padre = nodo5\n",
        "nodo11 = Nodo(5);nodo5.hijo_izq = nodo11;nodo11.padre = nodo5\n",
        "nodo12 = Nodo(5);nodo6.hijo_der = nodo12;nodo12.padre = nodo6\n",
        "nodo13 = Nodo(8);nodo6.hijo_izq = nodo13;nodo13.padre = nodo6\n",
        "nodo14 = Nodo(7);nodo7.hijo_der = nodo14;nodo14.padre = nodo7\n",
        "#nodo15 = Nodo(8);nodo7.hijo_izq = nodo15;nodo15.padre = nodo7\n",
        "arbol1.mostrarArbolBin()\n",
        "print(\"¿Es simetrico?, \",eSimetrico(arbol1))"
      ],
      "metadata": {
        "colab": {
          "base_uri": "https://localhost:8080/"
        },
        "id": "b24h77fykdeP",
        "outputId": "56bbc839-cc00-4788-f3c1-309e70fdb503"
      },
      "execution_count": 31,
      "outputs": [
        {
          "output_type": "stream",
          "name": "stdout",
          "text": [
            "El arbol es:\n",
            "10\n",
            "├────2\n",
            "│    ├────3\n",
            "│    │    └────7\n",
            "│    └────4\n",
            "│         ├────8\n",
            "│         └────5\n",
            "└────2\n",
            "     ├────4\n",
            "     │    ├────5\n",
            "     │    └────8\n",
            "     └────3\n",
            "          ├────7\n",
            "          └────6\n",
            "¿Es simetrico?,  False\n"
          ]
        }
      ]
    },
    {
      "cell_type": "code",
      "source": [
        "nodo15 = Nodo(8);nodo7.hijo_izq = nodo15;nodo15.padre = nodo7\n",
        "nodo1 = Nodo(10); arbol2.raiz = nodo1;nodo1.padre = None\n",
        "arbol1.mostrarArbolBin()\n",
        "print(\"¿Es simetrico?, \", eSimetrico(arbol2))"
      ],
      "metadata": {
        "colab": {
          "base_uri": "https://localhost:8080/"
        },
        "id": "38MPmUHVzWrf",
        "outputId": "4599f780-7673-46c1-a180-e124565d1f5e"
      },
      "execution_count": 32,
      "outputs": [
        {
          "output_type": "stream",
          "name": "stdout",
          "text": [
            "El arbol es:\n",
            "10\n",
            "├────2\n",
            "│    ├────3\n",
            "│    │    ├────8\n",
            "│    │    └────7\n",
            "│    └────4\n",
            "│         ├────8\n",
            "│         └────5\n",
            "└────2\n",
            "     ├────4\n",
            "     │    ├────5\n",
            "     │    └────8\n",
            "     └────3\n",
            "          ├────7\n",
            "          └────6\n",
            "¿Es simetrico?,  True\n"
          ]
        }
      ]
    }
  ]
}