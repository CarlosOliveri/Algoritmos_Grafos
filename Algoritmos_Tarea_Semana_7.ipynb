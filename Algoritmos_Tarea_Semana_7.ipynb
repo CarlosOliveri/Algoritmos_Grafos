{
  "cells": [
    {
      "cell_type": "markdown",
      "metadata": {
        "id": "bSC0FZrANzkv"
      },
      "source": [
        "# Tarea 7\n",
        "> Carlos Oliveri "
      ]
    },
    {
      "cell_type": "code",
      "execution_count": 20,
      "metadata": {
        "id": "MMK_d96pNur5"
      },
      "outputs": [],
      "source": [
        "import matplotlib.pyplot as plt\n",
        "import networkx as nx"
      ]
    },
    {
      "cell_type": "code",
      "execution_count": 21,
      "metadata": {
        "id": "MAOfXqqqPLTs"
      },
      "outputs": [],
      "source": [
        "class Vertice:\n",
        "  def __init__(self,x):\n",
        "    self.clave = x\n",
        "    self.vecinos = []\n",
        "    self.dist = 0\n",
        "    self.color = 'blanco'\n",
        "    self.padre = None\n",
        "\n",
        "class Grafos:\n",
        "  def __init__(self):\n",
        "    self.vertices = []\n",
        "\n",
        "  def agregarVertice(self,n):\n",
        "    self.vertices.append(n)\n",
        "\n",
        "  def agregarAristas(self,a,b,c):\n",
        "    a.vecinos.append((b,c))\n",
        "    b.vecinos.append((a,c))\n",
        "\n",
        "  def mostrarGrafos(self):\n",
        "    G = nx.Graph()\n",
        "    for u in self.vertices:\n",
        "      for v in u.vecinos:\n",
        "        G.add_edge(u.clave,v[0].clave)\n",
        "    nx.draw_circular(G,with_labels = True)\n",
        "    plt.show()\n",
        "\n",
        "  def mayorDist(self,s):\n",
        "    global maxDist, objet\n",
        "    for u in self.vertices:\n",
        "      u.padre = None\n",
        "      u.color = 'blanco'\n",
        "      u.dist = 0\n",
        "    maxDist = 0\n",
        "    s.color = 'gris'\n",
        "    fila = Cola()\n",
        "    fila.agregar(s)\n",
        "    while not fila.vacia():\n",
        "      u = fila.quitar()\n",
        "      for v in u.vecinos:\n",
        "        if v[0].color == 'blanco':\n",
        "          v[0].color = 'gris'\n",
        "          v[0].padre = u\n",
        "          v[0].dist = u.dist + v[1]\n",
        "          if maxDist < v[0].dist:\n",
        "            maxDist = v[0].dist\n",
        "            objet = v[0]\n",
        "          fila.agregar(v[0])\n",
        "      u.color = 'negro'\n",
        "    return maxDist,objet\n",
        "\n",
        "  def cantTree(self):\n",
        "    cont = 0;\n",
        "    for u in self.vertices:\n",
        "      u.padre = None\n",
        "      u.color = 'blanco'\n",
        "      u.dist = 0\n",
        "    fila = Cola()\n",
        "    for u in self.vertices:\n",
        "      if u.color == 'blanco':\n",
        "        cont = cont + 1\n",
        "        fila.agregar(u)\n",
        "        while not fila.vacia():\n",
        "          i = fila.quitar()\n",
        "          for v in i.vecinos:\n",
        "            if v[0].color == 'blanco':\n",
        "              v[0].color = 'gris'\n",
        "              v[0].padre = u\n",
        "              fila.agregar(v[0])\n",
        "          i.color = 'negro'\n",
        "    return cont\n",
        "\n",
        "\n",
        "g1 = Grafos() #Creamos un Grafo Vacio\n",
        "\n",
        "class Cola:\n",
        "  def __init__(self):\n",
        "    self.elementos = []\n",
        "  def quitar(self):\n",
        "    if len(self.elementos) == 0:\n",
        "      print(\"Cola vacia!!!\")\n",
        "      return None\n",
        "    return self.elementos.pop(0)\n",
        "  def agregar(self,elementoNuevo):\n",
        "    self.elementos.append(elementoNuevo)\n",
        "  def vacia(self):\n",
        "    if len(self.elementos) == 0:\n",
        "      return True\n",
        "\n",
        "#Esta funcion busca un Vertice a partir de su Clave\n",
        "def buscarCiudad(ciudad):\n",
        "  for j in g1.vertices:\n",
        "    if j.clave == ciudad:\n",
        "      return j #Devuelve el objeto si lo encuentra\n",
        "  return False #Si no lo encuentra devuelve False"
      ]
    },
    {
      "cell_type": "code",
      "execution_count": 22,
      "metadata": {
        "colab": {
          "base_uri": "https://localhost:8080/",
          "height": 742
        },
        "id": "pquXkDvcPQ0W",
        "outputId": "e04a41ca-2021-4ae3-ac81-21a9c0174854"
      },
      "outputs": [
        {
          "name": "stdout",
          "output_type": "stream",
          "text": [
            "Ingrese el numero de vertices del Grafo: 6\n",
            "ingrese el valor de dos ciudades y la distancia entre ellas tal que 1 2 3\n",
            "1 2 3\n",
            "ingrese el valor de dos ciudades y la distancia entre ellas tal que 1 2 3\n",
            "3 4 5\n",
            "ingrese el valor de dos ciudades y la distancia entre ellas tal que 1 2 3\n",
            "5 6 7\n",
            "ingrese el valor de dos ciudades y la distancia entre ellas tal que 1 2 3\n",
            "8 9 7\n",
            "ingrese el valor de dos ciudades y la distancia entre ellas tal que 1 2 3\n",
            "9 7 9\n"
          ]
        },
        {
          "data": {
            "image/png": "[encoded data removed]",
            "text/plain": [
              "<Figure size 640x480 with 1 Axes>"
            ]
          },
          "metadata": {},
          "output_type": "display_data"
        },
        {
          "name": "stdout",
          "output_type": "stream",
          "text": [
            "Existen esta cantidad de arbolos en el bosque:\n",
            "4\n"
          ]
        }
      ],
      "source": [
        "n = 0\n",
        "while n <= 1 or n != int(n):\n",
        "  #Validacion de tipo de entrada\n",
        "  try:\n",
        "    n = int(input(\"Ingrese el numero de vertices del Grafo: \"))\n",
        "  except:\n",
        "    print(\"Valor no valido intente de nuevo\")\n",
        "for k in range(0,n-1):\n",
        "  print(\"ingrese el valor de dos ciudades y la distancia entre ellas tal que 1 2 3\")\n",
        "  entrada = input()\n",
        "  # validacion de formato de entrada / no esta del todo bien validado\n",
        "  while len(entrada) != 5:\n",
        "    print('Entrada invalida vuelva a intentar: \"1 2 3\"')\n",
        "    entrada = input()\n",
        "  entrada = entrada.split()\n",
        "  if (buscarCiudad(entrada[0]) == False):\n",
        "    g1.agregarVertice(Vertice(entrada[0]))\n",
        "  if (buscarCiudad(entrada[1]) == False):\n",
        "    g1.agregarVertice(Vertice(entrada[1]))\n",
        "  g1.agregarAristas(buscarCiudad(entrada[0]),buscarCiudad(entrada[1]),int(entrada[2]))\n",
        "g1.mostrarGrafos()\n",
        "print(\"Existen esta cantidad de arbolos en el bosque:\")\n",
        "print(g1.cantTree())\n"
      ]
    }
  ],
  "metadata": {
    "colab": {
      "provenance": []
    },
    "kernelspec": {
      "display_name": "Python 3",
      "name": "python3"
    },
    "language_info": {
      "name": "python"
    }
  },
  "nbformat": 4,
  "nbformat_minor": 0
}
