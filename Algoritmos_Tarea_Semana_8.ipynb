{
  "nbformat": 4,
  "nbformat_minor": 0,
  "metadata": {
    "colab": {
      "provenance": []
    },
    "kernelspec": {
      "name": "python3",
      "display_name": "Python 3"
    },
    "language_info": {
      "name": "python"
    }
  },
  "cells": [
    {
      "cell_type": "markdown",
      "source": [
        "# Tarea 8\n",
        "> Carlos Enmanuel Oliveri Martinez  \n",
        "> 5234661"
      ],
      "metadata": {
        "id": "H6GN7v6NtWgC"
      }
    },
    {
      "cell_type": "code",
      "execution_count": 1,
      "metadata": {
        "id": "PYeWljdRs-1P"
      },
      "outputs": [],
      "source": [
        "import matplotlib.pyplot as plt\n",
        "import networkx as nx"
      ]
    },
    {
      "cell_type": "code",
      "source": [
        "class Vertice:\n",
        "  def __init__(self,x):\n",
        "    self.clave = x\n",
        "    self.vecinos = []\n",
        "    self.dist = 0\n",
        "    self.color = 'blanco'\n",
        "    self.padre = None\n",
        "\n",
        "class Grafos:\n",
        "  def __init__(self):\n",
        "    self.vertices = []\n",
        "\n",
        "  def agregarVertice(self,n):\n",
        "    self.vertices.append(n)\n",
        "\n",
        "  def agregarAristas(self,a,b,c):\n",
        "    a.vecinos.append((b,c))\n",
        "    b.vecinos.append((a,c))\n",
        "\n",
        "  def mostrarGrafos(self):\n",
        "    G = nx.Graph()\n",
        "    for u in self.vertices:\n",
        "      for v in u.vecinos:\n",
        "        G.add_edge(u.clave,v[0].clave)\n",
        "    nx.draw_circular(G,with_labels = True)\n",
        "    plt.show()\n",
        "\n",
        "  def mayorDist(self,s):\n",
        "    global maxDist, objet\n",
        "    for u in self.vertices:\n",
        "      u.padre = None\n",
        "      u.color = 'blanco'\n",
        "      u.dist = 0\n",
        "    maxDist = 0\n",
        "    s.color = 'gris'\n",
        "    fila = Cola()\n",
        "    fila.agregar(s)\n",
        "    while not fila.vacia():\n",
        "      u = fila.quitar()\n",
        "      for v in u.vecinos:\n",
        "        if v[0].color == 'blanco':\n",
        "          v[0].color = 'gris'\n",
        "          v[0].padre = u\n",
        "          v[0].dist = u.dist + v[1]\n",
        "          if maxDist < v[0].dist:\n",
        "            maxDist = v[0].dist\n",
        "            objet = v[0]\n",
        "          fila.agregar(v[0])\n",
        "      u.color = 'negro'\n",
        "    return maxDist,objet\n",
        "\n",
        "  # Devuelve el vecino mas cercano al vertice enviado,\n",
        "  #utilizado para generar el MST\n",
        "  def menorDistVecino(self,u):\n",
        "    minDist = 1000\n",
        "    objet = None\n",
        "    for v in u.vecinos:\n",
        "      if v[0].color == 'blanco':\n",
        "        if minDist > v[1]:\n",
        "          minDist = v[1]\n",
        "          objet = v\n",
        "    return objet\n",
        "\n",
        "  def createMst(self):\n",
        "    for v in self.vertices:\n",
        "      v.padre = None\n",
        "      v.color = 'blanco'\n",
        "      v.dist = 0\n",
        "    mst = []\n",
        "    u = self.vertices[0]\n",
        "    u.color = 'gris'\n",
        "    mst.append((None,u,0))\n",
        "    while len(mst) < len(self.vertices):\n",
        "      objet = (None,None,1000)\n",
        "      for v in mst:\n",
        "        vecinoMenorDistancia = self.menorDistVecino(v[1])\n",
        "        #print(v[1].clave,vecinoMenorDistancia[0].clave,vecinoMenorDistancia[1])\n",
        "        try:\n",
        "          if vecinoMenorDistancia[1] < objet[2]:\n",
        "            objet = (v[1],vecinoMenorDistancia[0],vecinoMenorDistancia[1])\n",
        "        except:\n",
        "          pass\n",
        "      objet[1].color = 'gris'\n",
        "      objet[1].padre = objet[0]\n",
        "      mst.append(objet)\n",
        "    return mst\n",
        "\n",
        "class Cola:\n",
        "  def __init__(self):\n",
        "    self.elementos = []\n",
        "  def quitar(self):\n",
        "    if len(self.elementos) == 0:\n",
        "      print(\"Cola vacia!!!\")\n",
        "      return None\n",
        "    return self.elementos.pop(0)\n",
        "  def agregar(self,elementoNuevo):\n",
        "    self.elementos.append(elementoNuevo)\n",
        "  def vacia(self):\n",
        "    if len(self.elementos) == 0:\n",
        "      return True\n",
        "\n",
        "#Esta funcion busca un Vertice a partir de su Clave\n",
        "def buscarCiudad(ciudad,u):\n",
        "  for j in u.vertices:\n",
        "    if j.clave == ciudad:\n",
        "      return j #Devuelve el objeto si lo encuentra\n",
        "  return False #Si no lo encuentra devuelve False"
      ],
      "metadata": {
        "id": "BUTa60lfuSss"
      },
      "execution_count": 2,
      "outputs": []
    },
    {
      "cell_type": "code",
      "source": [
        "g1 = Grafos() #Creamos un Grafo Vacio\n",
        "n = 0\n",
        "while n <= 1 or n != int(n):\n",
        "  #Validacion de tipo de entrada\n",
        "  try:\n",
        "    n = int(input(\"Ingrese el numero de vertices del Grafo: \"))\n",
        "  except:\n",
        "    print(\"Valor no valido intente de nuevo\")\n",
        "for k in range(0,n-1):\n",
        "  print(\"ingrese el valor de dos ciudades y la distancia entre ellas tal que 1 2 3\")\n",
        "  entrada = input()\n",
        "  # validacion de formato de entrada / no esta del todo bien validado\n",
        "  while len(entrada) != 5:\n",
        "    print('Entrada invalida vuelva a intentar: \"1 2 3\"')\n",
        "    entrada = input()\n",
        "  entrada = entrada.split()\n",
        "  if (buscarCiudad(entrada[0],g1) == False):\n",
        "    g1.agregarVertice(Vertice(entrada[0]))\n",
        "  if (buscarCiudad(entrada[1],g1) == False):\n",
        "    g1.agregarVertice(Vertice(entrada[1]))\n",
        "  g1.agregarAristas(buscarCiudad(entrada[0],g1),buscarCiudad(entrada[1],g1),int(entrada[2]))\n",
        "algo = g1.createMst()\n",
        "algo\n",
        "MSTree = Grafos()\n",
        "v1 = Vertice('1')\n",
        "MSTree.agregarVertice(v1)\n",
        "for k in algo:\n",
        "  if k[0] == None:\n",
        "    pass\n",
        "  else:\n",
        "    if (buscarCiudad(k[0].clave,MSTree) == False):\n",
        "      MSTree.agregarVertice(Vertice(k[0].clave))\n",
        "    if (buscarCiudad(k[1].clave,MSTree) == False):\n",
        "        MSTree.agregarVertice(Vertice(k[1].clave))\n",
        "    MSTree.agregarAristas(buscarCiudad(k[0].clave,MSTree),buscarCiudad(k[1].clave,MSTree),k[2])\n",
        "sum = 0\n",
        "for k in algo:\n",
        "  sum = sum + k[2]\n",
        "print(\"La suma de aristas del srbol de expansion minima es: \",sum)"
      ],
      "metadata": {
        "colab": {
          "base_uri": "https://localhost:8080/"
        },
        "id": "nmPgYpPhudQZ",
        "outputId": "0aa7c151-4f7d-4b21-ec20-b9c6f1d6d69a"
      },
      "execution_count": 12,
      "outputs": [
        {
          "output_type": "stream",
          "name": "stdout",
          "text": [
            "Ingrese el numero de vertices del Grafo: 1 2 3\n",
            "Valor no valido intente de nuevo\n",
            "Ingrese el numero de vertices del Grafo: 2 3 1\n",
            "Valor no valido intente de nuevo\n",
            "Ingrese el numero de vertices del Grafo: 1 3 5\n",
            "Valor no valido intente de nuevo\n",
            "Ingrese el numero de vertices del Grafo: 4\n",
            "ingrese el valor de dos ciudades y la distancia entre ellas tal que 1 2 3\n",
            "1 2 3\n",
            "ingrese el valor de dos ciudades y la distancia entre ellas tal que 1 2 3\n",
            "2 3 1\n",
            "ingrese el valor de dos ciudades y la distancia entre ellas tal que 1 2 3\n",
            "1 3 5\n",
            "La suma de aristas del srbol de expansion minima es:  4\n"
          ]
        }
      ]
    },
    {
      "cell_type": "code",
      "source": [
        "print(\"los vertices que componen el arbol de expancion minima en orden son: \")\n",
        "for k in algo:\n",
        "  if k[0] == None:\n",
        "    print(0,k[1].clave,k[2])\n",
        "  else:\n",
        "    print(k[0].clave,k[1].clave,k[2])"
      ],
      "metadata": {
        "colab": {
          "base_uri": "https://localhost:8080/"
        },
        "id": "j6MFsEuJHaLs",
        "outputId": "9f7f1975-98ed-4606-bc57-3dfdd573ec44"
      },
      "execution_count": 13,
      "outputs": [
        {
          "output_type": "stream",
          "name": "stdout",
          "text": [
            "los vertices que componen el arbol de expancion minima en orden son: \n",
            "0 1 0\n",
            "1 2 3\n",
            "2 3 1\n"
          ]
        }
      ]
    },
    {
      "cell_type": "code",
      "source": [
        "g1.mostrarGrafos()\n",
        "MSTree.mostrarGrafos()"
      ],
      "metadata": {
        "colab": {
          "base_uri": "https://localhost:8080/",
          "height": 1000
        },
        "id": "0NTKJEsNuisl",
        "outputId": "c8fe2663-1723-4f25-bc98-b090a0816198"
      },
      "execution_count": 14,
      "outputs": [
        {
          "output_type": "display_data",
          "data": {
            "text/plain": [
              "<Figure size 640x480 with 1 Axes>"
            ],
            "image/png": "[encoded data removed]"
          },
          "metadata": {}
        },
        {
          "output_type": "display_data",
          "data": {
            "text/plain": [
              "<Figure size 640x480 with 1 Axes>"
            ],
            "image/png": "[encoded data removed]"
          },
          "metadata": {}
        }
      ]
    }
  ]
}